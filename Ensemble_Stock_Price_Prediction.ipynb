{
 "nbformat": 4,
 "nbformat_minor": 0,
 "metadata": {
  "colab": {
   "provenance": []
  },
  "kernelspec": {
   "name": "python3",
   "display_name": "Python 3"
  },
  "language_info": {
   "name": "python"
  }
 },
 "cells": [
  {
   "cell_type": "code",
   "execution_count": 182,
   "metadata": {
    "id": "bEf6PwzBEACF",
    "pycharm": {
     "name": "#%%\n"
    }
   },
   "outputs": [],
   "source": [
    "# Step 1: Connecting to a stock market API to retrieve historical stock\n",
    "#         data for a specific company. "
   ]
  },
  {
   "cell_type": "code",
   "source": [
    "# Connecting to yahoo finance API \n",
    "\n",
    "import yfinance as yf \n",
    "\n",
    "# Getting desired company\n",
    "ticker = input(\"Which company would you liked to analyze? \").upper()\n",
    "\n",
    "# Testing if the ticker is valid. If it is, its information is retrieved\n",
    "end = False\n",
    "\n",
    "while not end:\n",
    "  stock_info = yf.Ticker(ticker).info\n",
    "  if stock_info:\n",
    "    stock_history = yf.Ticker(ticker).history(period='max')\n",
    "    end = True\n",
    "  else:\n",
    "    ticker = input('Invalid ticker. Try again: ').upper()\n",
    "\n",
    "print(stock_history)"
   ],
   "metadata": {
    "colab": {
     "base_uri": "https://localhost:8080/"
    },
    "id": "4yXKtGG4Euzo",
    "outputId": "8a2ca6ce-2588-4a40-96a6-e6c415af1b29",
    "pycharm": {
     "name": "#%%\n"
    }
   },
   "execution_count": 183,
   "outputs": [
    {
     "output_type": "stream",
     "name": "stdout",
     "text": [
      "Which company would you liked to analyze? AAPL\n",
      "                                 Open        High         Low       Close  \\\n",
      "Date                                                                        \n",
      "1980-12-12 00:00:00-05:00    0.099874    0.100308    0.099874    0.099874   \n",
      "1980-12-15 00:00:00-05:00    0.095098    0.095098    0.094663    0.094663   \n",
      "1980-12-16 00:00:00-05:00    0.088149    0.088149    0.087715    0.087715   \n",
      "1980-12-17 00:00:00-05:00    0.089886    0.090321    0.089886    0.089886   \n",
      "1980-12-18 00:00:00-05:00    0.092492    0.092927    0.092492    0.092492   \n",
      "...                               ...         ...         ...         ...   \n",
      "2022-12-23 00:00:00-05:00  130.919998  132.419998  129.639999  131.860001   \n",
      "2022-12-27 00:00:00-05:00  131.380005  131.410004  128.720001  130.029999   \n",
      "2022-12-28 00:00:00-05:00  129.669998  131.029999  125.870003  126.040001   \n",
      "2022-12-29 00:00:00-05:00  127.989998  130.479996  127.730003  129.610001   \n",
      "2022-12-30 00:00:00-05:00  128.410004  129.949997  127.430000  129.929993   \n",
      "\n",
      "                              Volume  Dividends  Stock Splits  \n",
      "Date                                                           \n",
      "1980-12-12 00:00:00-05:00  469033600        0.0           0.0  \n",
      "1980-12-15 00:00:00-05:00  175884800        0.0           0.0  \n",
      "1980-12-16 00:00:00-05:00  105728000        0.0           0.0  \n",
      "1980-12-17 00:00:00-05:00   86441600        0.0           0.0  \n",
      "1980-12-18 00:00:00-05:00   73449600        0.0           0.0  \n",
      "...                              ...        ...           ...  \n",
      "2022-12-23 00:00:00-05:00   63814900        0.0           0.0  \n",
      "2022-12-27 00:00:00-05:00   69007800        0.0           0.0  \n",
      "2022-12-28 00:00:00-05:00   85438400        0.0           0.0  \n",
      "2022-12-29 00:00:00-05:00   75703700        0.0           0.0  \n",
      "2022-12-30 00:00:00-05:00   76960600        0.0           0.0  \n",
      "\n",
      "[10603 rows x 7 columns]\n"
     ]
    }
   ]
  },
  {
   "cell_type": "code",
   "source": [
    "# Step 2: Preprocessing the data and splitting it into training and test sets."
   ],
   "metadata": {
    "id": "QZSgsJbPH_Ug",
    "pycharm": {
     "name": "#%%\n"
    }
   },
   "execution_count": 184,
   "outputs": []
  },
  {
   "cell_type": "code",
   "source": [
    "import numpy as np\n",
    "from sklearn.preprocessing import StandardScaler \n",
    "from sklearn.model_selection import train_test_split\n",
    "\n",
    "# Converting the historical data into a numpy array \n",
    "stock_prices = np.array(stock_history['Close'])\n",
    "max_price = max(stock_prices)\n",
    "min_price = min(stock_prices)\n",
    "print(max_price, min_price)\n",
    "\n",
    "\n",
    "# Normalizing the stock prices \n",
    "scaler = StandardScaler()\n",
    "norm_stock_prices = scaler.fit_transform(stock_prices.reshape(-1, 1))\n",
    "\n",
    "X_train, X_test, y_train, y_test = train_test_split(norm_stock_prices, norm_stock_prices, test_size=0.2)"
   ],
   "metadata": {
    "colab": {
     "base_uri": "https://localhost:8080/"
    },
    "id": "NAkkFSqTIFaK",
    "outputId": "22e293c5-921f-431b-c60c-9d6d46c1cd70",
    "pycharm": {
     "name": "#%%\n"
    }
   },
   "execution_count": 200,
   "outputs": [
    {
     "output_type": "stream",
     "name": "stdout",
     "text": [
      "180.95973205566406 0.03821254149079323\n"
     ]
    }
   ]
  },
  {
   "cell_type": "code",
   "source": [
    "# Building the deep learning models\n",
    "# Building a RNN, LSTM network"
   ],
   "metadata": {
    "id": "7Wxwl7_lK1Dl",
    "pycharm": {
     "name": "#%%\n"
    }
   },
   "execution_count": 186,
   "outputs": []
  },
  {
   "cell_type": "code",
   "source": [
    "# RNN"
   ],
   "metadata": {
    "id": "pKrX-VB3LJiG",
    "pycharm": {
     "name": "#%%\n"
    }
   },
   "execution_count": 187,
   "outputs": []
  },
  {
   "cell_type": "code",
   "source": [
    "from keras.layers import SimpleRNN, Dense\n",
    "from keras.models import Sequential \n",
    "\n",
    "RNN_model = Sequential()\n",
    "RNN_model.add(SimpleRNN(units=32, input_shape=(10, 1)))\n",
    "RNN_model.add(Dense(1))\n",
    "\n",
    "RNN_model.compile(loss='mean_squared_error', optimizer='adam', metrics=['mae'])\n",
    "RNN_model.fit(X_train, y_train, batch_size=64, epochs=10, validation_data=(X_test, y_test))\n"
   ],
   "metadata": {
    "colab": {
     "base_uri": "https://localhost:8080/"
    },
    "id": "WseQnvVqLOsy",
    "outputId": "5dac415a-8814-43de-b78c-fe74dd1803f9",
    "pycharm": {
     "name": "#%%\n"
    }
   },
   "execution_count": 188,
   "outputs": [
    {
     "output_type": "stream",
     "name": "stdout",
     "text": [
      "Epoch 1/10\n"
     ]
    },
    {
     "output_type": "stream",
     "name": "stderr",
     "text": [
      "WARNING:tensorflow:Model was constructed with shape (None, 10, 1) for input KerasTensor(type_spec=TensorSpec(shape=(None, 10, 1), dtype=tf.float32, name='simple_rnn_12_input'), name='simple_rnn_12_input', description=\"created by layer 'simple_rnn_12_input'\"), but it was called on an input with incompatible shape (None, 1, 1).\n",
      "WARNING:tensorflow:Model was constructed with shape (None, 10, 1) for input KerasTensor(type_spec=TensorSpec(shape=(None, 10, 1), dtype=tf.float32, name='simple_rnn_12_input'), name='simple_rnn_12_input', description=\"created by layer 'simple_rnn_12_input'\"), but it was called on an input with incompatible shape (None, 1, 1).\n"
     ]
    },
    {
     "output_type": "stream",
     "name": "stdout",
     "text": [
      "114/133 [========================>.....] - ETA: 0s - loss: 0.3318 - mae: 0.2555"
     ]
    },
    {
     "output_type": "stream",
     "name": "stderr",
     "text": [
      "WARNING:tensorflow:Model was constructed with shape (None, 10, 1) for input KerasTensor(type_spec=TensorSpec(shape=(None, 10, 1), dtype=tf.float32, name='simple_rnn_12_input'), name='simple_rnn_12_input', description=\"created by layer 'simple_rnn_12_input'\"), but it was called on an input with incompatible shape (None, 1, 1).\n"
     ]
    },
    {
     "output_type": "stream",
     "name": "stdout",
     "text": [
      "\b\b\b\b\b\b\b\b\b\b\b\b\b\b\b\b\b\b\b\b\b\b\b\b\b\b\b\b\b\b\b\b\b\b\b\b\b\b\b\b\b\b\b\b\b\b\b\b\b\b\b\b\b\b\b\b\b\b\b\b\b\b\b\b\b\b\b\b\b\b\b\b\b\b\b\b\b\b\b\r133/133 [==============================] - 2s 4ms/step - loss: 0.2921 - mae: 0.2313 - val_loss: 0.0393 - val_mae: 0.0868\n",
      "Epoch 2/10\n",
      "133/133 [==============================] - 0s 3ms/step - loss: 0.0271 - mae: 0.0940 - val_loss: 0.0224 - val_mae: 0.0875\n",
      "Epoch 3/10\n",
      "133/133 [==============================] - 0s 3ms/step - loss: 0.0176 - mae: 0.0786 - val_loss: 0.0148 - val_mae: 0.0673\n",
      "Epoch 4/10\n",
      "133/133 [==============================] - 0s 3ms/step - loss: 0.0114 - mae: 0.0624 - val_loss: 0.0097 - val_mae: 0.0533\n",
      "Epoch 5/10\n",
      "133/133 [==============================] - 0s 3ms/step - loss: 0.0075 - mae: 0.0479 - val_loss: 0.0064 - val_mae: 0.0389\n",
      "Epoch 6/10\n",
      "133/133 [==============================] - 0s 3ms/step - loss: 0.0050 - mae: 0.0379 - val_loss: 0.0043 - val_mae: 0.0351\n",
      "Epoch 7/10\n",
      "133/133 [==============================] - 0s 3ms/step - loss: 0.0034 - mae: 0.0304 - val_loss: 0.0030 - val_mae: 0.0289\n",
      "Epoch 8/10\n",
      "133/133 [==============================] - 0s 3ms/step - loss: 0.0023 - mae: 0.0236 - val_loss: 0.0021 - val_mae: 0.0202\n",
      "Epoch 9/10\n",
      "133/133 [==============================] - 0s 3ms/step - loss: 0.0017 - mae: 0.0189 - val_loss: 0.0015 - val_mae: 0.0149\n",
      "Epoch 10/10\n",
      "133/133 [==============================] - 0s 3ms/step - loss: 0.0012 - mae: 0.0147 - val_loss: 0.0011 - val_mae: 0.0130\n"
     ]
    },
    {
     "output_type": "execute_result",
     "data": {
      "text/plain": [
       "<keras.callbacks.History at 0x7fdf30c32f40>"
      ]
     },
     "metadata": {},
     "execution_count": 188
    }
   ]
  },
  {
   "cell_type": "code",
   "source": [
    "# LSTM"
   ],
   "metadata": {
    "id": "ryHJDh5cNqPf",
    "pycharm": {
     "name": "#%%\n"
    }
   },
   "execution_count": 189,
   "outputs": []
  },
  {
   "cell_type": "code",
   "source": [
    "from keras.layers import LSTM\n",
    "from keras.models import Sequential\n",
    "\n",
    "LSTM_model = Sequential()\n",
    "LSTM_model.add(LSTM(units=32, input_shape=(10, 1)))\n",
    "LSTM_model.add(Dense(1))\n",
    "\n",
    "LSTM_model.compile(loss='mean_squared_error', optimizer='adam', metrics=['mae'])\n",
    "LSTM_model.fit(X_train, y_train, batch_size=64, epochs=10, validation_data=(X_test, y_test))"
   ],
   "metadata": {
    "colab": {
     "base_uri": "https://localhost:8080/"
    },
    "id": "ZGHnayAJNreH",
    "outputId": "a9d57548-980d-42be-cf1f-8ee694bc84a0",
    "pycharm": {
     "name": "#%%\n"
    }
   },
   "execution_count": 190,
   "outputs": [
    {
     "output_type": "stream",
     "name": "stdout",
     "text": [
      "Epoch 1/10\n"
     ]
    },
    {
     "output_type": "stream",
     "name": "stderr",
     "text": [
      "WARNING:tensorflow:Model was constructed with shape (None, 10, 1) for input KerasTensor(type_spec=TensorSpec(shape=(None, 10, 1), dtype=tf.float32, name='lstm_16_input'), name='lstm_16_input', description=\"created by layer 'lstm_16_input'\"), but it was called on an input with incompatible shape (None, 1, 1).\n",
      "WARNING:tensorflow:Model was constructed with shape (None, 10, 1) for input KerasTensor(type_spec=TensorSpec(shape=(None, 10, 1), dtype=tf.float32, name='lstm_16_input'), name='lstm_16_input', description=\"created by layer 'lstm_16_input'\"), but it was called on an input with incompatible shape (None, 1, 1).\n"
     ]
    },
    {
     "output_type": "stream",
     "name": "stdout",
     "text": [
      "127/133 [===========================>..] - ETA: 0s - loss: 0.6834 - mae: 0.5072"
     ]
    },
    {
     "output_type": "stream",
     "name": "stderr",
     "text": [
      "WARNING:tensorflow:Model was constructed with shape (None, 10, 1) for input KerasTensor(type_spec=TensorSpec(shape=(None, 10, 1), dtype=tf.float32, name='lstm_16_input'), name='lstm_16_input', description=\"created by layer 'lstm_16_input'\"), but it was called on an input with incompatible shape (None, 1, 1).\n"
     ]
    },
    {
     "output_type": "stream",
     "name": "stdout",
     "text": [
      "\b\b\b\b\b\b\b\b\b\b\b\b\b\b\b\b\b\b\b\b\b\b\b\b\b\b\b\b\b\b\b\b\b\b\b\b\b\b\b\b\b\b\b\b\b\b\b\b\b\b\b\b\b\b\b\b\b\b\b\b\b\b\b\b\b\b\b\b\b\b\b\b\b\b\b\b\b\b\b\r133/133 [==============================] - 4s 8ms/step - loss: 0.6673 - mae: 0.5002 - val_loss: 0.3164 - val_mae: 0.3512\n",
      "Epoch 2/10\n",
      "133/133 [==============================] - 1s 4ms/step - loss: 0.1076 - mae: 0.1968 - val_loss: 0.0087 - val_mae: 0.0762\n",
      "Epoch 3/10\n",
      "133/133 [==============================] - 0s 4ms/step - loss: 0.0037 - mae: 0.0490 - val_loss: 0.0029 - val_mae: 0.0438\n",
      "Epoch 4/10\n",
      "133/133 [==============================] - 0s 4ms/step - loss: 0.0026 - mae: 0.0395 - val_loss: 0.0025 - val_mae: 0.0391\n",
      "Epoch 5/10\n",
      "133/133 [==============================] - 0s 3ms/step - loss: 0.0023 - mae: 0.0359 - val_loss: 0.0023 - val_mae: 0.0342\n",
      "Epoch 6/10\n",
      "133/133 [==============================] - 0s 3ms/step - loss: 0.0021 - mae: 0.0325 - val_loss: 0.0021 - val_mae: 0.0313\n",
      "Epoch 7/10\n",
      "133/133 [==============================] - 0s 4ms/step - loss: 0.0019 - mae: 0.0302 - val_loss: 0.0020 - val_mae: 0.0295\n",
      "Epoch 8/10\n",
      "133/133 [==============================] - 1s 4ms/step - loss: 0.0018 - mae: 0.0284 - val_loss: 0.0019 - val_mae: 0.0290\n",
      "Epoch 9/10\n",
      "133/133 [==============================] - 0s 4ms/step - loss: 0.0017 - mae: 0.0273 - val_loss: 0.0018 - val_mae: 0.0276\n",
      "Epoch 10/10\n",
      "133/133 [==============================] - 0s 4ms/step - loss: 0.0016 - mae: 0.0260 - val_loss: 0.0017 - val_mae: 0.0261\n"
     ]
    },
    {
     "output_type": "execute_result",
     "data": {
      "text/plain": [
       "<keras.callbacks.History at 0x7fdf309b6130>"
      ]
     },
     "metadata": {},
     "execution_count": 190
    }
   ]
  },
  {
   "cell_type": "code",
   "source": [
    "# Building support vector machines and gradient boosting models"
   ],
   "metadata": {
    "id": "p_QiMlf-bBIW",
    "pycharm": {
     "name": "#%%\n"
    }
   },
   "execution_count": 191,
   "outputs": []
  },
  {
   "cell_type": "code",
   "source": [
    "# SVP"
   ],
   "metadata": {
    "id": "nlWZ-OMAbHaQ",
    "pycharm": {
     "name": "#%%\n"
    }
   },
   "execution_count": 192,
   "outputs": []
  },
  {
   "cell_type": "code",
   "source": [
    "from sklearn.svm import SVR\n",
    "\n",
    "SVM_model = SVR(kernel='linear')\n",
    "SVM_model.fit(X_train, y_train)\n",
    "\n",
    "predictions = SVM_model.predict(X_test)\n",
    "accuracy = SVM_model.score(X_test, y_test)\n",
    "\n",
    "print(accuracy)\n"
   ],
   "metadata": {
    "colab": {
     "base_uri": "https://localhost:8080/"
    },
    "id": "nKYGdjvAbI2q",
    "outputId": "4bb7114a-42bb-4305-8094-39a3cb899b96",
    "pycharm": {
     "name": "#%%\n"
    }
   },
   "execution_count": 193,
   "outputs": [
    {
     "output_type": "stream",
     "name": "stdout",
     "text": [
      "0.9916383799764377\n"
     ]
    },
    {
     "output_type": "stream",
     "name": "stderr",
     "text": [
      "/usr/local/lib/python3.8/dist-packages/sklearn/utils/validation.py:993: DataConversionWarning: A column-vector y was passed when a 1d array was expected. Please change the shape of y to (n_samples, ), for example using ravel().\n",
      "  y = column_or_1d(y, warn=True)\n"
     ]
    }
   ]
  },
  {
   "cell_type": "code",
   "source": [
    "# gradient boost"
   ],
   "metadata": {
    "id": "hxj9CqXXeX7T",
    "pycharm": {
     "name": "#%%\n"
    }
   },
   "execution_count": 194,
   "outputs": []
  },
  {
   "cell_type": "code",
   "source": [
    "from sklearn.ensemble import GradientBoostingRegressor\n",
    "from sklearn.metrics import mean_absolute_error, mean_squared_error\n",
    "\n",
    "GB_model = GradientBoostingRegressor(random_state=0)\n",
    "GB_model.fit(X_train, y_train)\n",
    "\n",
    "r2_score = GB_model.score(X_test, y_test)\n",
    "# print(f'Test R^2 score: {r2_score:.2f}')\n",
    "\n",
    "\n",
    "# Get the model's MAE and MSE scores on the test data\n",
    "mae = mean_absolute_error(y_test, GB_model.predict(X_test))\n",
    "mse = mean_squared_error(y_test, GB_model.predict(X_test))\n",
    "# print(f'Test MAE: {mae:.2f}')\n",
    "# print(f'Test MSE: {mse:.2f}')\n"
   ],
   "metadata": {
    "colab": {
     "base_uri": "https://localhost:8080/"
    },
    "id": "WG4DkztSeZp0",
    "outputId": "4c131c14-189b-4268-ebb2-18dd3c7e0847",
    "pycharm": {
     "name": "#%%\n"
    }
   },
   "execution_count": 195,
   "outputs": [
    {
     "output_type": "stream",
     "name": "stderr",
     "text": [
      "/usr/local/lib/python3.8/dist-packages/sklearn/ensemble/_gb.py:494: DataConversionWarning: A column-vector y was passed when a 1d array was expected. Please change the shape of y to (n_samples, ), for example using ravel().\n",
      "  y = column_or_1d(y, warn=True)\n"
     ]
    }
   ]
  },
  {
   "cell_type": "code",
   "source": [
    "# Combining the models "
   ],
   "metadata": {
    "id": "zzsCsYdaep42",
    "pycharm": {
     "name": "#%%\n"
    }
   },
   "execution_count": 196,
   "outputs": []
  },
  {
   "cell_type": "code",
   "source": [
    "RNN_pred = RNN_model.predict(X_test).sum(axis=1)\n",
    "LSTM_pred = LSTM_model.predict(X_test).sum(axis=1)\n",
    "SVM_pred = SVM_model.predict(X_test)\n",
    "GB_pred = GB_model.predict(X_test)\n",
    "\n",
    "\n",
    "combined_predictions = (RNN_pred + LSTM_pred + SVM_pred + GB_pred) / 4\n",
    "final_predictions = combined_predictions\n",
    "final_predictions.flatten()\n",
    "\n",
    "y_test_reshaped = y_test.reshape(-1, 1)\n",
    "from sklearn.metrics import mean_absolute_error\n",
    "mae = mean_absolute_error(y_test, final_predictions)\n",
    "print('Mean absolute error: ', mae)\n",
    "\n",
    "print(len(y_test))\n"
   ],
   "metadata": {
    "colab": {
     "base_uri": "https://localhost:8080/"
    },
    "id": "9Ek5hD11gjVF",
    "outputId": "14040ac4-a73a-4479-b3e5-080796fa638d",
    "pycharm": {
     "name": "#%%\n"
    }
   },
   "execution_count": 197,
   "outputs": [
    {
     "output_type": "stream",
     "name": "stderr",
     "text": [
      "WARNING:tensorflow:Model was constructed with shape (None, 10, 1) for input KerasTensor(type_spec=TensorSpec(shape=(None, 10, 1), dtype=tf.float32, name='simple_rnn_12_input'), name='simple_rnn_12_input', description=\"created by layer 'simple_rnn_12_input'\"), but it was called on an input with incompatible shape (None, 1, 1).\n"
     ]
    },
    {
     "output_type": "stream",
     "name": "stdout",
     "text": [
      "67/67 [==============================] - 0s 2ms/step\n"
     ]
    },
    {
     "output_type": "stream",
     "name": "stderr",
     "text": [
      "WARNING:tensorflow:Model was constructed with shape (None, 10, 1) for input KerasTensor(type_spec=TensorSpec(shape=(None, 10, 1), dtype=tf.float32, name='lstm_16_input'), name='lstm_16_input', description=\"created by layer 'lstm_16_input'\"), but it was called on an input with incompatible shape (None, 1, 1).\n"
     ]
    },
    {
     "output_type": "stream",
     "name": "stdout",
     "text": [
      "67/67 [==============================] - 1s 1ms/step\n",
      "Mean absolute error:  0.0249198756332726\n",
      "2121\n"
     ]
    }
   ]
  },
  {
   "cell_type": "code",
   "source": [
    "print(final_predictions)\n",
    "denormalized_prices = final_predictions * (max_price - min_price) + min_price"
   ],
   "metadata": {
    "colab": {
     "base_uri": "https://localhost:8080/"
    },
    "id": "T_bnmQ5rpTve",
    "outputId": "7ea58bc6-fd2c-4f05-b6ad-906527523b14",
    "pycharm": {
     "name": "#%%\n"
    }
   },
   "execution_count": 202,
   "outputs": [
    {
     "output_type": "stream",
     "name": "stdout",
     "text": [
      "[ 0.27396934 -0.41983676 -0.35753069 ...  0.37767868 -0.41526481\n",
      "  0.059342  ]\n",
      "[ 49.60516267 -75.91929271 -64.64678275 ...  68.36841383 -75.09212841\n",
      "  10.77445769]\n"
     ]
    }
   ]
  }
 ]
}